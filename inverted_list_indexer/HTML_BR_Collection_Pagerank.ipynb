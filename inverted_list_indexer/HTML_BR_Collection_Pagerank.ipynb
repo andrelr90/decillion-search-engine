{
  "nbformat": 4,
  "nbformat_minor": 0,
  "metadata": {
    "colab": {
      "name": "HTML_BR_Collection_Pagerank.ipynb",
      "provenance": [],
      "collapsed_sections": [],
      "toc_visible": true,
      "machine_shape": "hm"
    },
    "kernelspec": {
      "display_name": "Python 3",
      "name": "python3"
    }
  },
  "cells": [
    {
      "cell_type": "markdown",
      "metadata": {
        "id": "o12S8A_Cpl-W"
      },
      "source": [
        "# Setup"
      ]
    },
    {
      "cell_type": "code",
      "metadata": {
        "id": "B5eba98BtPp-"
      },
      "source": [
        "# get credentials on https://www.kaggle.com/docs/api\n",
        "!mkdir /root/.kaggle/\n",
        "! echo '{\"username\":\"<kaggle_username>\",\"key\":\"<Kaggle_api_token>\"}' > /root/.kaggle/kaggle.json"
      ],
      "execution_count": null,
      "outputs": []
    },
    {
      "cell_type": "code",
      "metadata": {
        "id": "uYj-10qkhffL"
      },
      "source": [
        "!pip install selectolax\n",
        "!pip install networkx"
      ],
      "execution_count": null,
      "outputs": []
    },
    {
      "cell_type": "code",
      "metadata": {
        "id": "Hg5-JrAmRkHy"
      },
      "source": [
        "import pandas as pd\n",
        "import json\n",
        "import kaggle\n",
        "from tqdm import tqdm\n",
        "from time import time\n",
        "from selectolax.parser import HTMLParser\n",
        "import networkx as nx"
      ],
      "execution_count": null,
      "outputs": []
    },
    {
      "cell_type": "markdown",
      "metadata": {
        "id": "UNyCkptupsea"
      },
      "source": [
        "# Download Collection"
      ]
    },
    {
      "cell_type": "code",
      "metadata": {
        "id": "l2g9yyV6yKSi",
        "colab": {
          "base_uri": "https://localhost:8080/"
        },
        "outputId": "db961af1-c4e5-42d3-dd78-990ff7a8b3b4"
      },
      "source": [
        "kaggle.api.dataset_download_files('html-br-collection', path='/content/', unzip=True, quiet=False)"
      ],
      "execution_count": 3,
      "outputs": [
        {
          "output_type": "stream",
          "text": [
            "  0%|          | 5.00M/16.0G [00:00<06:27, 44.3MB/s]"
          ],
          "name": "stderr"
        },
        {
          "output_type": "stream",
          "text": [
            "Downloading html-br-collection.zip to /content\n"
          ],
          "name": "stdout"
        },
        {
          "output_type": "stream",
          "text": [
            "100%|██████████| 16.0G/16.0G [03:11<00:00, 89.5MB/s]\n"
          ],
          "name": "stderr"
        },
        {
          "output_type": "stream",
          "text": [
            "\n"
          ],
          "name": "stdout"
        }
      ]
    },
    {
      "cell_type": "markdown",
      "metadata": {
        "id": "p6uUeY2bspS7"
      },
      "source": [
        "# Parser Methods\n"
      ]
    },
    {
      "cell_type": "code",
      "metadata": {
        "id": "klUrpTptf8yN"
      },
      "source": [
        "def get_text_selectolax(html):\n",
        "    \"\"\"\n",
        "    a fast HTML parser.\n",
        "    :param html: html content\n",
        "    :return: the number of words on parsed html.\n",
        "    \"\"\"\n",
        "    tree = HTMLParser(html)\n",
        "\n",
        "    if tree.body is None:\n",
        "        return -1\n",
        "\n",
        "    for tag in tree.css('script'):\n",
        "        tag.decompose()\n",
        "    for tag in tree.css('style'):\n",
        "        tag.decompose()\n",
        "\n",
        "    text = tree.body.text(separator=' ')\n",
        "\n",
        "    return len(text.split())\n",
        "\n",
        "\n",
        "def get_url_size(url):\n",
        "    \"\"\"\n",
        "    Gets the size of url.\n",
        "    :param url: \n",
        "    :return: \n",
        "    \"\"\"\n",
        "    return len(url.split(\"/\")) - 2\n",
        "\n",
        "def extract_urls(html_content):\n",
        "    urls = []\n",
        "    dom = HTMLParser(html_content)\n",
        "    for tag in dom.tags('a'):\n",
        "        attrs = tag.attributes\n",
        "        if 'href' in attrs:\n",
        "            urls.append(attrs['href'])\n",
        "    return urls"
      ],
      "execution_count": 4,
      "outputs": []
    },
    {
      "cell_type": "markdown",
      "metadata": {
        "id": "6HjDf4uFLiss"
      },
      "source": [
        "# Page Rank"
      ]
    },
    {
      "cell_type": "code",
      "metadata": {
        "colab": {
          "base_uri": "https://localhost:8080/"
        },
        "id": "-eoM00cycfrl",
        "outputId": "c90c1824-c28f-41e4-aa29-5d44c02a7e84"
      },
      "source": [
        "# create collection graph G(V,E)\n",
        "g = nx.DiGraph()\n",
        "with open(\"/content/collection.jl\", \"r\") as collection_file:\n",
        "    for idx, line in enumerate(tqdm(collection_file, total=1000068)):\n",
        "        data = json.loads(line)\n",
        "        g.add_node(data[\"url\"])\n"
      ],
      "execution_count": 5,
      "outputs": [
        {
          "output_type": "stream",
          "text": [
            "100%|██████████| 1000068/1000068 [18:29<00:00, 900.98it/s]\n"
          ],
          "name": "stderr"
        }
      ]
    },
    {
      "cell_type": "code",
      "metadata": {
        "colab": {
          "base_uri": "https://localhost:8080/"
        },
        "id": "X8jVKXwUdx2G",
        "outputId": "c875abe4-e13a-4760-81d8-5fcd16dd23db"
      },
      "source": [
        "def update_graph(u,v):\n",
        "    if g.has_node(v):\n",
        "        if g.has_edge(u,v):\n",
        "            g[u][v][\"weight\"]+=1\n",
        "        else:\n",
        "            g.add_edge(u, v, weight=1)\n",
        "\n",
        "\n",
        "with open(\"/content/collection.jl\", \"r\") as collection_file:\n",
        "    for idx, line in enumerate(tqdm(collection_file, total=1000068)):\n",
        "        data = json.loads(line)\n",
        "        source_url = data[\"url\"]\n",
        "        urls = extract_urls(data[\"html_content\"])\n",
        "        for target_url in urls:\n",
        "            update_graph(source_url,target_url)\n",
        "\n"
      ],
      "execution_count": 6,
      "outputs": [
        {
          "output_type": "stream",
          "text": [
            "100%|██████████| 1000068/1000068 [50:02<00:00, 333.10it/s]\n"
          ],
          "name": "stderr"
        }
      ]
    },
    {
      "cell_type": "code",
      "metadata": {
        "id": "0K8l9SZN0ac7"
      },
      "source": [
        "pr = nx.pagerank(g)"
      ],
      "execution_count": null,
      "outputs": []
    },
    {
      "cell_type": "code",
      "metadata": {
        "id": "NOQZZm470r22"
      },
      "source": [
        "prs = []\n",
        "for url, pagerank in pr.items():\n",
        "    prs.append(\n",
        "        {\n",
        "            \"url\":url,\n",
        "            \"pagerank\":pagerank\n",
        "        }\n",
        "   \n",
        "    )"
      ],
      "execution_count": null,
      "outputs": []
    },
    {
      "cell_type": "code",
      "metadata": {
        "id": "uTkuBfvG0znw"
      },
      "source": [
        "pr_df = pd.DataFrame(prs)\n",
        "pr_df"
      ],
      "execution_count": null,
      "outputs": []
    }
  ]
}